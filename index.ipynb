{
 "cells": [
  {
   "cell_type": "markdown",
   "metadata": {},
   "source": [
    "# APIs - Cumulative Lab\n",
    "\n",
    "\n",
    "## Introduction \n",
    "\n",
    "We've seen how the Yelp API works and how to create basic visualizations using Folium. It's time to put those skills to work in order to create a working map! Taking things a step further, you'll also independently explore how to perform pagination in order to retrieve a full results set from the Yelp API.\n",
    "\n",
    "## Objectives\n",
    "\n",
    "You will be able to: \n",
    "\n",
    "* Practice using functions to organize your code\n",
    "* Use pagination to retrieve all results from an API query\n",
    "* Practice parsing data returned from an API query\n",
    "* Practice interpreting visualizations of a dataset\n",
    "* Create maps using Folium"
   ]
  },
  {
   "cell_type": "markdown",
   "metadata": {},
   "source": [
    "## Your Task: Query Yelp for All Businesses in a Category and Analyze the Results\n",
    "\n",
    "![restaurant counter with pizza](images/restaurant_counter.jpg)\n",
    "\n",
    "Photo by <a href=\"https://unsplash.com/@jordanmadrid?utm_source=unsplash&utm_medium=referral&utm_content=creditCopyText\">Jordan Madrid</a> on <a href=\"/s/photos/pizza-restaurant?utm_source=unsplash&utm_medium=referral&utm_content=creditCopyText\">Unsplash</a>"
   ]
  },
  {
   "cell_type": "markdown",
   "metadata": {},
   "source": [
    "### Overview\n",
    "\n",
    "You've now worked with some API calls, but we have yet to see how to retrieve a more complete dataset in a programmatic manner. In this lab, you will write a query of businesses on Yelp, then use *pagination* to retrieve all possible results for that query. Then you will create a summary of your findings, including a Folium map of the geographic locations of those businesses.\n",
    "\n",
    "### Technical Details\n",
    "\n",
    "Returning to the Yelp API, the [documentation](https://www.yelp.com/developers/documentation/v3/business_search) also provides us details regarding the **API limits**. These often include details about the number of requests a user is allowed to make within a specified time limit and the maximum number of results to be returned. In this case, we are told that any request has a **maximum of 50 results per request** and defaults to 20. Furthermore, any search will be limited to a **total of 1000 results**. To retrieve all 1000 of these results, we would have to page through the results piece by piece, retrieving 50 at a time. Processes such as these are often referred to as pagination.\n",
    "\n",
    "Also, be mindful of the **API** ***rate*** **limits**. You can only make **5000 requests per day** and are also can make requests too fast. Start prototyping small before running a loop that could be faulty. You can also use `time.sleep(n)` to add delays. For more details see https://www.yelp.com/developers/documentation/v3/rate_limiting.\n",
    "\n",
    "In this lab, you will define a search and then paginate over the results to retrieve all of the results. You'll then parse these responses as a list of dictionaries (for further exploration) and create a map using Folium to visualize the results geographically.\n",
    "\n",
    "### Requirements\n",
    "\n",
    "#### 1. Make the Initial Request\n",
    "\n",
    "Start by filling in your API key to make the initial request to the business search API. Investigate the structure of the response you get back and start figuring out how you will extract the relevant information.\n",
    "\n",
    "#### 2. Add Pagination\n",
    "\n",
    "Using loops and functions, collect the maximum number of results for your query from the API.\n",
    "\n",
    "#### 3. Perform Exploratory Analysis\n",
    "\n",
    "Interpret visualizations related to the price range, average rating, and number of reviews for all query results.\n",
    "\n",
    "#### 4. Create a Folium Map\n",
    "\n",
    "Using latitude and longitude data, plot the query results on an interactive map."
   ]
  },
  {
   "cell_type": "markdown",
   "metadata": {},
   "source": [
    "## 1. Make the Initial Request\n",
    "\n",
    "### Querying\n",
    "\n",
    "Start by making an initial request to the Yelp API. Your search must include at least 2 parameters: **term** and **location**. For example, you might search for pizza restaurants in NYC. The term and location is up to you but make the request below.\n",
    "\n",
    "Use the `requests` library ([documentation here](https://requests.readthedocs.io/en/master/user/quickstart/#make-a-request)).\n",
    "\n",
    "You'll also need an API key from Yelp. If you haven't done this already, go to the Yelp [Manage App page](https://www.yelp.com/developers/v3/manage_app) and create a new app (after making an account if you haven't already)."
   ]
  },
  {
   "cell_type": "code",
   "execution_count": 23,
   "metadata": {},
   "outputs": [
    {
     "data": {
      "text/plain": [
       "<Response [200]>"
      ]
     },
     "execution_count": 23,
     "metadata": {},
     "output_type": "execute_result"
    }
   ],
   "source": [
    "# Replace None with appropriate code\n",
    "\n",
    "# Import the requests library\n",
    "import requests\n",
    "import json\n",
    "\n",
    "# Get this from the \"Manage App\" page. Make sure you set them\n",
    "# back to None before pushing this to GitHub, since otherwise\n",
    "# your credentials will be compromised\n",
    "api_key = \n",
    "\n",
    "\n",
    "# These can be whatever you want! But the solution uses \"pizza\"\n",
    "# and \"New York NY\" if you want to compare your work directly\n",
    "term = \"gyros\"\n",
    "location = \"Colorado Springs CO\"\n",
    "\n",
    "# Set up params for request\n",
    "url = \"https://api.yelp.com/v3/businesses/search\"\n",
    "headers = {\n",
    "    \"Authorization\": \"Bearer {}\".format(api_key)\n",
    "}\n",
    "url_params = {\n",
    "    \"term\": term.replace(\" \", \"+\"),\n",
    "    \"location\": location.replace(\" \", \"+\")\n",
    "}\n",
    "\n",
    "# Make the request using requests.get, passing in\n",
    "# url, headers=headers, and params=url_params\n",
    "response = requests.get(url, headers=headers, params=url_params)\n",
    "\n",
    "# Confirm we got a 200 response\n",
    "response"
   ]
  },
  {
   "cell_type": "code",
   "execution_count": 24,
   "metadata": {},
   "outputs": [
    {
     "data": {
      "text/plain": [
       "dict_keys(['businesses', 'total', 'region'])"
      ]
     },
     "execution_count": 24,
     "metadata": {},
     "output_type": "execute_result"
    }
   ],
   "source": [
    "# Run this cell without changes\n",
    "\n",
    "# Get the response body in JSON format\n",
    "response_json = response.json()\n",
    "# View the keys\n",
    "response_json.keys()"
   ]
  },
  {
   "cell_type": "markdown",
   "metadata": {},
   "source": [
    "### Extracting Data\n",
    "\n",
    "Now, retrieve the value associated with the `'businesses'` key, and inspect its contents."
   ]
  },
  {
   "cell_type": "code",
   "execution_count": 25,
   "metadata": {},
   "outputs": [
    {
     "data": {
      "text/plain": [
       "[{'id': '9f525n0cpk6VaZj4nM7P6Q',\n",
       "  'alias': 'the-purple-onion-colorado-springs-2',\n",
       "  'name': 'The Purple Onion',\n",
       "  'image_url': 'https://s3-media1.fl.yelpcdn.com/bphoto/fU4ryz3atrZCAONjeEO2sA/o.jpg',\n",
       "  'is_closed': False,\n",
       "  'url': 'https://www.yelp.com/biz/the-purple-onion-colorado-springs-2?adjust_creative=DsQdmShsIsJ9KPvK51QQkA&utm_campaign=yelp_api_v3&utm_medium=api_v3_business_search&utm_source=DsQdmShsIsJ9KPvK51QQkA',\n",
       "  'review_count': 65,\n",
       "  'categories': [{'alias': 'greek', 'title': 'Greek'},\n",
       "   {'alias': 'turkish', 'title': 'Turkish'},\n",
       "   {'alias': 'tradamerican', 'title': 'American (Traditional)'}],\n",
       "  'rating': 4.5,\n",
       "  'coordinates': {'latitude': 38.8586163764781,\n",
       "   'longitude': -104.758246913552},\n",
       "  'transactions': ['delivery', 'pickup'],\n",
       "  'price': '$$',\n",
       "  'location': {'address1': '1840 N Academy Blvd',\n",
       "   'address2': '',\n",
       "   'address3': None,\n",
       "   'city': 'Colorado Springs',\n",
       "   'zip_code': '80909',\n",
       "   'country': 'US',\n",
       "   'state': 'CO',\n",
       "   'display_address': ['1840 N Academy Blvd', 'Colorado Springs, CO 80909']},\n",
       "  'phone': '+17194347418',\n",
       "  'display_phone': '(719) 434-7418',\n",
       "  'distance': 3188.640108387804},\n",
       " {'id': 'JJa6ZYapgnCJNRwFe_4TmA',\n",
       "  'alias': 'golden-gyro-colorado-springs',\n",
       "  'name': 'Golden Gyro',\n",
       "  'image_url': 'https://s3-media2.fl.yelpcdn.com/bphoto/hyC5mNEgpNLTgcJ6SEeOWA/o.jpg',\n",
       "  'is_closed': False,\n",
       "  'url': 'https://www.yelp.com/biz/golden-gyro-colorado-springs?adjust_creative=DsQdmShsIsJ9KPvK51QQkA&utm_campaign=yelp_api_v3&utm_medium=api_v3_business_search&utm_source=DsQdmShsIsJ9KPvK51QQkA',\n",
       "  'review_count': 69,\n",
       "  'categories': [{'alias': 'greek', 'title': 'Greek'}],\n",
       "  'rating': 4.0,\n",
       "  'coordinates': {'latitude': 38.8416595, 'longitude': -104.7937927},\n",
       "  'transactions': ['delivery'],\n",
       "  'price': '$',\n",
       "  'location': {'address1': '611 N Union Blvd',\n",
       "   'address2': '',\n",
       "   'address3': '',\n",
       "   'city': 'Colorado Springs',\n",
       "   'zip_code': '80909',\n",
       "   'country': 'US',\n",
       "   'state': 'CO',\n",
       "   'display_address': ['611 N Union Blvd', 'Colorado Springs, CO 80909']},\n",
       "  'phone': '+17196330707',\n",
       "  'display_phone': '(719) 633-0707',\n",
       "  'distance': 3461.1153954054766}]"
      ]
     },
     "execution_count": 25,
     "metadata": {},
     "output_type": "execute_result"
    }
   ],
   "source": [
    "# Replace None with appropriate code\n",
    "\n",
    "# Retrieve the value from response_json\n",
    "businesses = response_json[\"businesses\"]\n",
    "\n",
    "# View the first 2 records\n",
    "businesses[:2]"
   ]
  },
  {
   "cell_type": "markdown",
   "metadata": {},
   "source": [
    "### Preparing Data\n",
    "\n",
    "Write a function `prepare_data` that takes in a list of dictionaries like `businesses` and returns a copy that has been prepared for analysis:\n",
    "\n",
    "1. The `coordinates` key-value pair has been converted into two separate key-value pairs, `latitude` and `longitude`\n",
    "2. All other key-value pairs except for `name`, `review_count`, `rating`, and `price` have been dropped\n",
    "3. All dictionaries missing one of the relevant keys or containing null values have been dropped\n",
    "\n",
    "In other words, the final keys for each dictionary should be `name`, `review_count`, `rating`, `price`, `latitude`, and `longitude`.\n",
    "\n",
    "Complete the function in the cell below:"
   ]
  },
  {
   "cell_type": "code",
   "execution_count": 26,
   "metadata": {},
   "outputs": [
    {
     "data": {
      "text/plain": [
       "[{'name': 'The Purple Onion',\n",
       "  'review_count': 65,\n",
       "  'rating': 4.5,\n",
       "  'price': '$$',\n",
       "  'latitude': 38.8586163764781,\n",
       "  'longitude': -104.758246913552},\n",
       " {'name': 'Golden Gyro',\n",
       "  'review_count': 69,\n",
       "  'rating': 4.0,\n",
       "  'price': '$',\n",
       "  'latitude': 38.8416595,\n",
       "  'longitude': -104.7937927},\n",
       " {'name': 'Greek Cafe',\n",
       "  'review_count': 126,\n",
       "  'rating': 4.0,\n",
       "  'price': '$',\n",
       "  'latitude': 38.8945852620538,\n",
       "  'longitude': -104.720782804704},\n",
       " {'name': 'Grand Gyros',\n",
       "  'review_count': 49,\n",
       "  'rating': 4.5,\n",
       "  'price': '$',\n",
       "  'latitude': 38.8545149,\n",
       "  'longitude': -104.7533688},\n",
       " {'name': 'Greek Cafe',\n",
       "  'review_count': 86,\n",
       "  'rating': 4.0,\n",
       "  'price': '$',\n",
       "  'latitude': 38.9595215,\n",
       "  'longitude': -104.7640458}]"
      ]
     },
     "execution_count": 26,
     "metadata": {},
     "output_type": "execute_result"
    }
   ],
   "source": [
    "# Replace None with appropriate code\n",
    "\n",
    "def prepare_data(data_list):\n",
    "    \"\"\"\n",
    "    This function takes in a list of dictionaries and prepares it\n",
    "    for analysis\n",
    "    \"\"\"\n",
    "    \n",
    "    # Make a new list to hold results\n",
    "    results = []\n",
    "    \n",
    "    for business_data in data_list:\n",
    "    \n",
    "        # Make a new dictionary to hold prepared data for this business\n",
    "        prepared_data = {}\n",
    "        \n",
    "        # Extract name, review_count, rating, and price key-value pairs\n",
    "        # from business_data and add to prepared_data\n",
    "        # If a key is not present in business_data, add it to prepared_data\n",
    "        # with an associated value of None\n",
    "        for key in (\"name\", \"review_count\", \"rating\", \"price\"):\n",
    "            prepared_data[key] = business_data.get(key, None)\n",
    "    \n",
    "        # Parse and add latitude and longitude columns\n",
    "        coordinates = business_data[\"coordinates\"]\n",
    "        prepared_data[\"latitude\"] = coordinates[\"latitude\"]\n",
    "        prepared_data[\"longitude\"] = coordinates[\"longitude\"]\n",
    "        \n",
    "        # Add to list if all values are present\n",
    "        if all(prepared_data.values()):\n",
    "            results.append(prepared_data)\n",
    "    \n",
    "    return results\n",
    "    \n",
    "# Test out function\n",
    "prepared_businesses = prepare_data(businesses)\n",
    "prepared_businesses[:5]"
   ]
  },
  {
   "cell_type": "markdown",
   "metadata": {},
   "source": [
    "Check that your function created the correct keys:"
   ]
  },
  {
   "cell_type": "code",
   "execution_count": 27,
   "metadata": {},
   "outputs": [],
   "source": [
    "# Run this cell without changes\n",
    "\n",
    "assert sorted(list(prepared_businesses[0].keys())) == ['latitude', 'longitude', 'name', 'price', 'rating', 'review_count']"
   ]
  },
  {
   "cell_type": "markdown",
   "metadata": {},
   "source": [
    "The following code will differ depending on your query, but we expect there to be 20 businesses in the original list, and potentially fewer in the prepared list (if any of them were missing data):"
   ]
  },
  {
   "cell_type": "code",
   "execution_count": 28,
   "metadata": {},
   "outputs": [
    {
     "name": "stdout",
     "output_type": "stream",
     "text": [
      "Original: 20\n",
      "Prepared: 19\n"
     ]
    }
   ],
   "source": [
    "# Run this cell without changes\n",
    "print(\"Original:\", len(businesses))\n",
    "print(\"Prepared:\", len(prepared_businesses))"
   ]
  },
  {
   "cell_type": "markdown",
   "metadata": {},
   "source": [
    "Great! We will reuse this function once we have retrieved the full dataset."
   ]
  },
  {
   "cell_type": "markdown",
   "metadata": {},
   "source": [
    "## 2. Add Pagination\n",
    "\n",
    "Now that you are able to extract information from one page of the response, let's figure out how to request as many pages as possible.\n",
    "\n",
    "### Determining the Total\n",
    "\n",
    "Depending on the number of total results for your query, you will either retrieve all of the results, or just the first 1000 (if there are more than 1000 total).\n",
    "\n",
    "We can find the total number of results using the `\"total\"` key:"
   ]
  },
  {
   "cell_type": "code",
   "execution_count": 29,
   "metadata": {},
   "outputs": [
    {
     "data": {
      "text/plain": [
       "42"
      ]
     },
     "execution_count": 29,
     "metadata": {},
     "output_type": "execute_result"
    }
   ],
   "source": [
    "# Run this cell without changes\n",
    "response_json[\"total\"]"
   ]
  },
  {
   "cell_type": "markdown",
   "metadata": {},
   "source": [
    "(This is specific to the implementation of the Yelp API. Some APIs will just tell you that there are more pages, or will tell you the number of pages total, rather than the total number of results. If you're not sure, always check the documentation.)\n",
    "\n",
    "In the cell below, assign the variable `total` to either the value shown above (if it is less than 1000), or 1000."
   ]
  },
  {
   "cell_type": "code",
   "execution_count": 30,
   "metadata": {},
   "outputs": [],
   "source": [
    "# Replace None with appropriate code\n",
    "total = 42"
   ]
  },
  {
   "cell_type": "markdown",
   "metadata": {},
   "source": [
    "### Calculating the Offsets\n",
    "\n",
    "The documentation states in the parameters section:\n",
    "\n",
    "> **Name**: `limit`, **Type:** int, **Description:** Optional. Number of business results to return. By default, it will return 20. Maximum is 50.\n",
    "\n",
    "> **Name**: `offset`, **Type:** int, **Description:** Optional. Offset the list of returned business results by this amount.\n",
    "\n",
    "So, to get the most results with the fewest API calls we want to set a limit of 50 every time. If, say, we wanted to get 210 total results, that would mean:\n",
    "\n",
    "1. Offset of `0` (first 50 records)\n",
    "2. Offset of `50` (second 50 records)\n",
    "3. Offset of `100` (third 50 records)\n",
    "4. Offset of `150` (fourth 50 records)\n",
    "5. Offset of `200` (final 10 records)\n",
    "\n",
    "In the cell below, create a function `get_offsets` that takes in a total and returns a list of offsets for that total. You can assume that there is a limit of 50 every time.\n",
    "\n",
    "*Hint: you can use `range` ([documentation here](https://docs.python.org/3.3/library/stdtypes.html?highlight=range#range)) to do this in one line of code. Just make the returned result is a list.*"
   ]
  },
  {
   "cell_type": "code",
   "execution_count": 33,
   "metadata": {},
   "outputs": [],
   "source": [
    "# Replace None with appropriate code\n",
    "def get_offsets(total):\n",
    "    \"\"\"\n",
    "    Get a list of offsets needed to get all pages\n",
    "    of data up until the total\n",
    "    \"\"\"\n",
    "    return list(range(0, total, 50))"
   ]
  },
  {
   "cell_type": "markdown",
   "metadata": {},
   "source": [
    "Check that your function works below:"
   ]
  },
  {
   "cell_type": "code",
   "execution_count": 34,
   "metadata": {},
   "outputs": [],
   "source": [
    "# Run this cell without changes\n",
    "\n",
    "assert get_offsets(200) == [0, 50, 100, 150]\n",
    "assert get_offsets(210) == [0, 50, 100, 150, 200]"
   ]
  },
  {
   "cell_type": "markdown",
   "metadata": {},
   "source": [
    "### Putting It All Together\n",
    "\n",
    "Recall that the following variable has already been declared for you:"
   ]
  },
  {
   "cell_type": "code",
   "execution_count": 35,
   "metadata": {},
   "outputs": [
    {
     "data": {
      "text/plain": [
       "{'term': 'gyros', 'location': 'Colorado+Springs+CO'}"
      ]
     },
     "execution_count": 35,
     "metadata": {},
     "output_type": "execute_result"
    }
   ],
   "source": [
    "# Run this cell without changes\n",
    "url_params"
   ]
  },
  {
   "cell_type": "markdown",
   "metadata": {},
   "source": [
    "We'll go ahead and also specify that the limit should be 50 every time:"
   ]
  },
  {
   "cell_type": "code",
   "execution_count": 36,
   "metadata": {},
   "outputs": [],
   "source": [
    "# Run this cell without changes\n",
    "url_params[\"limit\"] = 50"
   ]
  },
  {
   "cell_type": "markdown",
   "metadata": {},
   "source": [
    "In order to modify the offset, you'll need to add it to `url_params` with the key `\"offset\"` and whatever value is needed.\n",
    "\n",
    "In the cell below, write code that:\n",
    "\n",
    "* Creates an empty list for the full prepared dataset\n",
    "* Loops over all of the offsets from `get_offsets` and makes an API call each time with the specified offset\n",
    "* Calls `prepare_data` to get a cleaned version of the result of each API call\n",
    "* Extends the full prepared dataset list with each query's prepared dataset"
   ]
  },
  {
   "cell_type": "code",
   "execution_count": 37,
   "metadata": {},
   "outputs": [
    {
     "data": {
      "text/plain": [
       "32"
      ]
     },
     "execution_count": 37,
     "metadata": {},
     "output_type": "execute_result"
    }
   ],
   "source": [
    "# Replace None with appropriate code\n",
    "\n",
    "# Create an empty list for the full prepared dataset\n",
    "full_dataset = []\n",
    "\n",
    "for offset in get_offsets(total):\n",
    "    # Add or update the \"offset\" key-value pair in url_params\n",
    "    url_params[\"offset\"] = offset\n",
    "    \n",
    "    # Make the query and get the response\n",
    "    response = requests.get(url, headers=headers, params=url_params)\n",
    "    \n",
    "    # Get the response body in JSON format\n",
    "    response_json = response.json()\n",
    "    \n",
    "    # Get the list of businesses from the response_json\n",
    "    businesses = response_json[\"businesses\"]\n",
    "    \n",
    "    # Call the prepare_data function to get a list of processed data\n",
    "    prepared_businesses = prepare_data(businesses)\n",
    "    \n",
    "    # Extend full_dataset with this list (don't append, or you'll get\n",
    "    # a list of lists instead of a flat list)\n",
    "    full_dataset.extend(prepared_businesses)\n",
    "\n",
    "# Check the length of the full dataset. It will be up to `total`,\n",
    "# potentially less if there were missing values\n",
    "len(full_dataset)"
   ]
  },
  {
   "cell_type": "markdown",
   "metadata": {},
   "source": [
    "This code may take up to a few minutes to run.\n",
    "\n",
    "If you get an error trying to get the response body in JSON format, try adding `time.sleep(1)` right after the `requests.get` line, so your code will sleep for 1 second between each API call."
   ]
  },
  {
   "cell_type": "markdown",
   "metadata": {},
   "source": [
    "## 3. Perform Exploratory Analysis\n",
    "\n",
    "Take the businesses from the previous question and do an initial exploratory analysis. We have provided some plots for you to interpret:"
   ]
  },
  {
   "cell_type": "code",
   "execution_count": 38,
   "metadata": {},
   "outputs": [
    {
     "data": {
      "image/png": "[encoded data removed]",
      "text/plain": [
       "<Figure size 1152x360 with 3 Axes>"
      ]
     },
     "metadata": {
      "needs_background": "light"
     },
     "output_type": "display_data"
    }
   ],
   "source": [
    "# Run this cell without changes\n",
    "from collections import Counter\n",
    "import matplotlib.pyplot as plt\n",
    "%matplotlib inline\n",
    "\n",
    "fig, (ax1, ax2, ax3) = plt.subplots(ncols=3, figsize=(16, 5))\n",
    "\n",
    "# Plot distribution of number of reviews\n",
    "all_review_counts = [x[\"review_count\"] for x in full_dataset]\n",
    "ax1.hist(all_review_counts)\n",
    "ax1.set_title(\"Review Count Distribution\")\n",
    "ax1.set_xlabel(\"Number of Reviews\")\n",
    "ax1.set_ylabel(\"Number of Businesses\")\n",
    "\n",
    "# Plot rating distribution\n",
    "all_ratings = [x[\"rating\"] for x in full_dataset]\n",
    "rating_counter = Counter(all_ratings)\n",
    "rating_keys = sorted(rating_counter.keys())\n",
    "ax2.bar(rating_keys, [rating_counter[key] for key in rating_keys])\n",
    "ax2.set_title(\"Rating Distribution\")\n",
    "ax2.set_xlabel(\"Rating\")\n",
    "ax2.set_ylabel(\"Number of Businesses\")\n",
    "\n",
    "# Plot price distribution\n",
    "all_prices = [x[\"price\"].replace(\"$\", r\"\\$\") for x in full_dataset]\n",
    "price_counter = Counter(all_prices)\n",
    "price_keys = sorted(price_counter.keys())\n",
    "ax3.bar(price_keys, [price_counter[key] for key in price_keys])\n",
    "ax3.set_title(\"Price Distribution\")\n",
    "ax3.set_xlabel(\"Price Category\")\n",
    "ax3.set_ylabel(\"Number of Businesses\");"
   ]
  },
  {
   "cell_type": "markdown",
   "metadata": {},
   "source": [
    "Describe the distributions displayed above and interpret them in the context of your query. (Your answer may differ from the solution branch depending on your query.)"
   ]
  },
  {
   "cell_type": "code",
   "execution_count": 39,
   "metadata": {},
   "outputs": [
    {
     "data": {
      "text/plain": [
       "'\\nThe bulk of these businesses have few reviews, while overall the people find gyros from these businesses to be overall 4-5 stars.  There are over double the quantity of gyro restaurants that are in the one $ range.\\n'"
      ]
     },
     "execution_count": 39,
     "metadata": {},
     "output_type": "execute_result"
    }
   ],
   "source": [
    "# Replace None with appropriate text\n",
    "\"\"\"\n",
    "The bulk of these businesses have few reviews, while overall the people find gyros from these businesses to be overall 4-5 stars.  There are over double the quantity of gyro restaurants that are in the one $ range.\n",
    "\"\"\""
   ]
  },
  {
   "cell_type": "markdown",
   "metadata": {},
   "source": [
    "In the cell below, we also plot the rating distributions by price. In this setup, a price of one dollar sign is \"lower price\" and everything else is \"higher price\"."
   ]
  },
  {
   "cell_type": "code",
   "execution_count": 40,
   "metadata": {},
   "outputs": [
    {
     "data": {
      "image/png": "[encoded data removed]",
      "text/plain": [
       "<Figure size 432x288 with 1 Axes>"
      ]
     },
     "metadata": {
      "needs_background": "light"
     },
     "output_type": "display_data"
    }
   ],
   "source": [
    "# Run this cell without changes\n",
    "\n",
    "higher_price = []\n",
    "lower_price = []\n",
    "for row in full_dataset:\n",
    "    if row[\"price\"] == \"$\":\n",
    "        lower_price.append(row[\"rating\"])\n",
    "    else:\n",
    "        higher_price.append(row[\"rating\"])\n",
    "        \n",
    "fig, ax = plt.subplots()\n",
    "\n",
    "ax.hist([higher_price, lower_price], label=[\"higher price\", \"lower price\"], density=True)\n",
    "\n",
    "ax.legend();"
   ]
  },
  {
   "cell_type": "markdown",
   "metadata": {},
   "source": [
    "Is a higher price associated with a higher rating? (No need for any additional math/statistics, just interpret what you see in the plot.)"
   ]
  },
  {
   "cell_type": "code",
   "execution_count": 41,
   "metadata": {},
   "outputs": [
    {
     "data": {
      "text/plain": [
       "'\\nThere is a correlation between price and rating.  Overall, it does seem that the higher the price, the higher the rating.\\n'"
      ]
     },
     "execution_count": 41,
     "metadata": {},
     "output_type": "execute_result"
    }
   ],
   "source": [
    "# Replace None with appropriate text\n",
    "\"\"\"\n",
    "There is a correlation between price and rating.  Overall, it does seem that the higher the price, the higher the rating.\n",
    "\"\"\""
   ]
  },
  {
   "cell_type": "markdown",
   "metadata": {},
   "source": [
    "Finally, let's look at ratings vs. review counts:"
   ]
  },
  {
   "cell_type": "code",
   "execution_count": 42,
   "metadata": {},
   "outputs": [
    {
     "data": {
      "image/png": "[encoded data removed]",
      "text/plain": [
       "<Figure size 1152x360 with 1 Axes>"
      ]
     },
     "metadata": {
      "needs_background": "light"
     },
     "output_type": "display_data"
    }
   ],
   "source": [
    "# Run this cell without changes\n",
    "fig, ax = plt.subplots(figsize=(16,5))\n",
    "\n",
    "ax.scatter(all_review_counts, all_ratings, alpha=0.2)\n",
    "ax.set_xlabel(\"Number of Reviews\")\n",
    "ax.set_ylabel(\"Rating\")\n",
    "# \"zoom in\" to a subset of review counts\n",
    "ax.set_xlim(left=0, right=1000);"
   ]
  },
  {
   "cell_type": "markdown",
   "metadata": {},
   "source": [
    "Is a higher number of reviews associated with a higher rating?"
   ]
  },
  {
   "cell_type": "code",
   "execution_count": 43,
   "metadata": {},
   "outputs": [
    {
     "data": {
      "text/plain": [
       "'\\nThere is a strong correlation that the higher the rating, the higher the number of reviews.\\n'"
      ]
     },
     "execution_count": 43,
     "metadata": {},
     "output_type": "execute_result"
    }
   ],
   "source": [
    "# Replace None with appropriate text\n",
    "\"\"\"\n",
    "There is a strong correlation that the higher the rating, the higher the number of reviews.\n",
    "\"\"\""
   ]
  },
  {
   "cell_type": "markdown",
   "metadata": {},
   "source": [
    "## 4. Create a Folium Map\n",
    "\n",
    "Make a map using Folium of the businesses you retrieved. Be sure to also add popups to the markers giving some basic information such as name, rating and price.\n",
    "\n",
    "You can center the map around the latitude and longitude of the first item in `full_dataset`."
   ]
  },
  {
   "cell_type": "code",
   "execution_count": 44,
   "metadata": {},
   "outputs": [
    {
     "data": {
      "text/html": [
       "<div style=\"width:100%;\"><div style=\"position:relative;width:100%;height:0;padding-bottom:60%;\"><span style=\"color:#565656\">Make this Notebook Trusted to load map: File -> Trust Notebook</span><iframe src=\"about:blank\" style=\"position:absolute;width:100%;height:100%;left:0;top:0;border:none !important;\" data-html=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 onload=\"this.contentDocument.open();this.contentDocument.write(atob(this.getAttribute('data-html')));this.contentDocument.close();\" allowfullscreen webkitallowfullscreen mozallowfullscreen></iframe></div></div>"
      ],
      "text/plain": [
       "<folium.folium.Map at 0x124beb76af0>"
      ]
     },
     "execution_count": 44,
     "metadata": {},
     "output_type": "execute_result"
    }
   ],
   "source": [
    "# Replace None with appropriate code\n",
    "\n",
    "# Import the library\n",
    "import folium\n",
    "\n",
    "# Set up center latitude and longitude\n",
    "center_lat = full_dataset[0][\"latitude\"]\n",
    "center_long = full_dataset[0][\"longitude\"]\n",
    "\n",
    "# Initialize map with center lat and long\n",
    "yelp_map = folium.Map([center_lat, center_long], zoom_start=12)\n",
    "\n",
    "# Adjust this limit to see more or fewer businesses\n",
    "limit=100\n",
    "\n",
    "for business in full_dataset[:limit]:\n",
    "    # Extract information about business\n",
    "    lat = business[\"latitude\"]\n",
    "    long = business[\"longitude\"]\n",
    "    name = business[\"name\"]\n",
    "    rating = business[\"rating\"]\n",
    "    price = business[\"price\"]\n",
    "    details = \"{}\\nPrice: {} Rating:{}\".format(name,price,rating)\n",
    "    \n",
    "    # Create popup with relevant details\n",
    "    popup = folium.Popup(details)\n",
    "    \n",
    "    # Create marker with relevant lat/long and popup\n",
    "    marker = folium.Marker([lat, long], popup=popup)\n",
    "    \n",
    "    marker.add_to(yelp_map)\n",
    "    \n",
    "yelp_map"
   ]
  },
  {
   "cell_type": "markdown",
   "metadata": {},
   "source": [
    "## Summary\n",
    "\n",
    "Nice work! In this lab, you've made multiple API calls to Yelp in order to paginate through a results set, performing some basic exploratory analysis and then creating a nice interactive map to display the results using Folium! Well done!"
   ]
  }
 ],
 "metadata": {
  "kernelspec": {
   "display_name": "Python 3",
   "language": "python",
   "name": "python3"
  },
  "language_info": {
   "codemirror_mode": {
    "name": "ipython",
    "version": 3
   },
   "file_extension": ".py",
   "mimetype": "text/x-python",
   "name": "python",
   "nbconvert_exporter": "python",
   "pygments_lexer": "ipython3",
   "version": "3.8.5"
  },
  "toc": {
   "base_numbering": 1,
   "nav_menu": {},
   "number_sections": true,
   "sideBar": true,
   "skip_h1_title": false,
   "title_cell": "Table of Contents",
   "title_sidebar": "Contents",
   "toc_cell": false,
   "toc_position": {},
   "toc_section_display": true,
   "toc_window_display": false
  }
 },
 "nbformat": 4,
 "nbformat_minor": 2
}
